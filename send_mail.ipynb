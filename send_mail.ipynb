{
 "cells": [
  {
   "cell_type": "code",
   "execution_count": null,
   "id": "848b0359-b683-4688-8075-f2a1d5f67209",
   "metadata": {},
   "outputs": [],
   "source": [
    "from email.mime.multipart import MIMEMultipart\n",
    "from email.mime.application import MIMEApplication\n",
    "from email.mime.text import MIMEText\n",
    "import smtplib\n",
    "\n",
    "def send_mail(to, filename):\n",
    "    email_address = \"mashupsanchi@gmail.com\"\n",
    "    email_password = \"fynik123\"\n",
    "\n",
    "    # create email\n",
    "    msg = MIMEMultipart()\n",
    "    msg['Subject'] = \"Mashup File\"\n",
    "    msg['From'] = email_address\n",
    "    msg['To'] = to \n",
    "\n",
    "    with open(filename,'rb') as file:\n",
    "        # Attach the file with filename to the email\n",
    "        msg.attach(MIMEApplication(file.read(), Name='Mashup.zip'))\n",
    "    \n",
    "    with smtplib.SMTP_SSL('smtp.gmail.com', 465) as smtp:\n",
    "        smtp.login(email_address, email_password)\n",
    "        smtp.send_message(msg)"
   ]
  },
  {
   "cell_type": "code",
   "execution_count": null,
   "id": "4bf5086b-73a6-4424-9178-386d96d85b5a",
   "metadata": {},
   "outputs": [],
   "source": []
  }
 ],
 "metadata": {
  "kernelspec": {
   "display_name": "Python 3 (ipykernel)",
   "language": "python",
   "name": "python3"
  },
  "language_info": {
   "codemirror_mode": {
    "name": "ipython",
    "version": 3
   },
   "file_extension": ".py",
   "mimetype": "text/x-python",
   "name": "python",
   "nbconvert_exporter": "python",
   "pygments_lexer": "ipython3",
   "version": "3.12.1"
  }
 },
 "nbformat": 4,
 "nbformat_minor": 5
}
